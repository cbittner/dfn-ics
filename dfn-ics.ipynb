{
 "cells": [
  {
   "cell_type": "code",
   "execution_count": 1,
   "id": "9f5fdb3d-b09d-46ee-a3cc-f43025ffa783",
   "metadata": {
    "tags": []
   },
   "outputs": [
    {
     "name": "stdin",
     "output_type": "stream",
     "text": [
      "url der DFN-Umfrage https://terminplaner6.dfn.de/p/dd909abc6f030287013be02e4767199b-370621\n",
      "Name der Person (genau wie in der DFN-Tabelle): Ben\n"
     ]
    },
    {
     "data": {
      "text/html": [
       "<a href=\"dates.ics\" download>ics runterladen</a>"
      ],
      "text/plain": [
       "<IPython.core.display.HTML object>"
      ]
     },
     "execution_count": 1,
     "metadata": {},
     "output_type": "execute_result"
    }
   ],
   "source": [
    "# imports\n",
    "#import tkinter as tk\n",
    "#from tkinter import simpledialog\n",
    "import requests \n",
    "from bs4 import BeautifulSoup\n",
    "from icalendar import Calendar, Event, vCalAddress, vText\n",
    "import datetime\n",
    "from pathlib import Path\n",
    "import pandas as pd\n",
    "import os\n",
    "from IPython.display import display, HTML\n",
    "\n",
    "os.environ['TZ'] = 'Europe/Berlin'\n",
    "\n",
    "#requesting url and name from user\n",
    "'''\n",
    "ROOT = tk.Tk()\n",
    "ROOT.withdraw()\n",
    "urlInput = simpledialog.askstring(title=\"url\",\n",
    "                                  prompt=\"url der DFN-Umfrage:\")\n",
    "ROOT.withdraw()\n",
    "nameInput = simpledialog.askstring(title=\"name\",\n",
    "                                  prompt=\"Name der Person (genau wie in der DFN-Tabelle):\")\n",
    "'''                                \n",
    "\n",
    "urlInput = input(\"url der DFN-Umfrage\")\n",
    "nameInput = input(\"Name der Person (genau wie in der DFN-Tabelle):\")\n",
    "\n",
    "# downloading and processing data\n",
    "url = urlInput\n",
    "url = url.replace(\".de/en/p/\", \".de/de/p/\")\n",
    "website = requests.get(url)\n",
    "results = BeautifulSoup(website.content, 'html.parser')\n",
    "dates_table = pd.read_html(results.prettify())[0]\n",
    "dates_table.set_index('Unnamed: 0', inplace=True)\n",
    "\n",
    "# creating calender and populating whith events\n",
    "summary = results.find(id=\"page-title\").text\n",
    "name = nameInput\n",
    "\n",
    "months = {\"Januar\": 1, \"Februar\": 2, \"März\": 3, \"April\": 4, \"Mai\": 5, \"Juni\": 6, \"Juli\": 7, \"August\": 8, \"September\": 9, \"Oktober\": 10, \"November\": 11, \"Dezember\": 12}\n",
    "\n",
    "c = Calendar()\n",
    "c.add('prodid', '-//My calendar product//example.com//')\n",
    "c.add('version', '2.0')\n",
    "for columnname in dates_table:\n",
    "    column = dates_table[columnname]\n",
    "    if (column.get(name)=='Ja'):\n",
    "        year = column.name.split()[1][0:4]\n",
    "        month = months[column.name.split()[0]]\n",
    "        day = column.get(column.index[0]).split()[1]\n",
    "        start = column.get(column.index[1]).split('->')[0]\n",
    "        end = column.get(column.index[1]).split('->')[1]\n",
    "        d_start = str(month)+ '/' + str(day) +'/' + str(year) + ' ' + start\n",
    "        start_date = datetime.datetime.strptime(\n",
    "          d_start, '%m/%d/%Y %H:%M')\n",
    "        d_end = str(month)+ '/' + str(day) +'/' + str(year) + ' ' + end\n",
    "        end_date = datetime.datetime.strptime(\n",
    "          d_end, '%m/%d/%Y %H:%M')\n",
    "        event = Event()\n",
    "        event.add('dtstart', start_date)\n",
    "        event.add('dtend', end_date)\n",
    "        event.add('summary', summary)\n",
    "        event.add('url', url)\n",
    "        event.add('status', 'TENTATIVE')\n",
    "        event.add('description', summary)\n",
    "        c.add_component(event)\n",
    "\n",
    "#export ics\n",
    "f = open(os.path.join('dates.ics'), 'wb')\n",
    "f.write(c.to_ical())\n",
    "f.close()\n",
    "\n",
    "#show download link\n",
    "HTML(f'<a href=\"dates.ics\" download>ics runterladen</a>')"
   ]
  },
  {
   "cell_type": "code",
   "execution_count": null,
   "id": "69a5cb7a-7bed-450a-8455-bbd4876b6be2",
   "metadata": {},
   "outputs": [],
   "source": []
  }
 ],
 "metadata": {
  "kernelspec": {
   "display_name": "Python 3 (ipykernel)",
   "language": "python",
   "name": "python3"
  },
  "language_info": {
   "codemirror_mode": {
    "name": "ipython",
    "version": 3
   },
   "file_extension": ".py",
   "mimetype": "text/x-python",
   "name": "python",
   "nbconvert_exporter": "python",
   "pygments_lexer": "ipython3",
   "version": "3.10.13"
  }
 },
 "nbformat": 4,
 "nbformat_minor": 5
}
